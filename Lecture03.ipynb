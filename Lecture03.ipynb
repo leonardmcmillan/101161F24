{
 "cells": [
  {
   "cell_type": "markdown",
   "metadata": {},
   "source": [
    "## Code from last lecture"
   ]
  },
  {
   "cell_type": "code",
   "execution_count": 4,
   "metadata": {},
   "outputs": [],
   "source": [
    "import gzip\n",
    "import itertools"
   ]
  },
  {
   "cell_type": "code",
   "execution_count": 5,
   "metadata": {},
   "outputs": [],
   "source": [
    "def loadFasta(filename):\n",
    "    \"\"\" Parses a classically formatted and possibly \n",
    "        compressed FASTA file into a list of headers \n",
    "        and fragment sequences for each sequence contained\"\"\"\n",
    "    if (filename.endswith(\".gz\")):\n",
    "        fp = gzip.open(filename, 'r')\n",
    "        data = fp.read().decode(\"utf-8\")\n",
    "    else:\n",
    "        fp = open(filename, 'r')\n",
    "        data = fp.read()\n",
    "    # split at headers\n",
    "    data = data.split('>')\n",
    "    fp.close()\n",
    "    # ignore whatever appears before the 1st header\n",
    "    data.pop(0)     \n",
    "    headers = []\n",
    "    sequences = []\n",
    "    for sequence in data:\n",
    "        lines = sequence.split('\\n')\n",
    "        headers.append(lines.pop(0))\n",
    "        # add an extra \"+\" to make string \"1-referenced\"\n",
    "        sequences.append('+' + ''.join(lines))\n",
    "    return (headers, sequences)"
   ]
  },
  {
   "cell_type": "code",
   "execution_count": 11,
   "metadata": {},
   "outputs": [
    {
     "name": "stdout",
     "output_type": "stream",
     "text": [
      "../data/HumanChr01.fasta.gz 1 sequences\n",
      "CM000663.2 Homo sapiens chromosome 1, GRCh38 reference primary assembly\n",
      "248956422 bases +NNNNNNNNNNNNNNNNNNNNNNNNNNNNN ... NNNNNNNNNNNNNNNNNNNNNNNNNNNNNN\n",
      "../data/HumanChr02.fasta.gz 1 sequences\n",
      "CM000664.2 Homo sapiens chromosome 2, GRCh38 reference primary assembly\n",
      "242193529 bases +NNNNNNNNNNNNNNNNNNNNNNNNNNNNN ... NNNNNNNNNNNNNNNNNNNNNNNNNNNNNN\n",
      "../data/HumanChr03.fasta.gz 1 sequences\n",
      "CM000665.2 Homo sapiens chromosome 3, GRCh38 reference primary assembly\n",
      "198295559 bases +NNNNNNNNNNNNNNNNNNNNNNNNNNNNN ... NNNNNNNNNNNNNNNNNNNNNNNNNNNNNN\n",
      "../data/HumanChr04.fasta.gz 1 sequences\n",
      "CM000666.2 Homo sapiens chromosome 4, GRCh38 reference primary assembly\n",
      "190214555 bases +NNNNNNNNNNNNNNNNNNNNNNNNNNNNN ... NNNNNNNNNNNNNNNNNNNNNNNNNNNNNN\n",
      "../data/HumanChr05.fasta.gz 1 sequences\n",
      "CM000667.2 Homo sapiens chromosome 5, GRCh38 reference primary assembly\n",
      "181538259 bases +NNNNNNNNNNNNNNNNNNNNNNNNNNNNN ... NNNNNNNNNNNNNNNNNNNNNNNNNNNNNN\n",
      "../data/HumanChr06.fasta.gz 1 sequences\n",
      "CM000668.2 Homo sapiens chromosome 6, GRCh38 reference primary assembly\n",
      "170805979 bases +NNNNNNNNNNNNNNNNNNNNNNNNNNNNN ... NNNNNNNNNNNNNNNNNNNNNNNNNNNNNN\n",
      "../data/HumanChr07.fasta.gz 1 sequences\n",
      "CM000669.2 Homo sapiens chromosome 7, GRCh38 reference primary assembly\n",
      "159345973 bases +NNNNNNNNNNNNNNNNNNNNNNNNNNNNN ... NNNNNNNNNNNNNNNNNNNNNNNNNNNNNN\n",
      "../data/HumanChr08.fasta.gz 1 sequences\n",
      "CM000670.2 Homo sapiens chromosome 8, GRCh38 reference primary assembly\n",
      "145138636 bases +NNNNNNNNNNNNNNNNNNNNNNNNNNNNN ... NNNNNNNNNNNNNNNNNNNNNNNNNNNNNN\n",
      "../data/HumanChr09.fasta.gz 1 sequences\n",
      "CM000671.2 Homo sapiens chromosome 9, GRCh38 reference primary assembly\n",
      "138394717 bases +NNNNNNNNNNNNNNNNNNNNNNNNNNNNN ... NNNNNNNNNNNNNNNNNNNNNNNNNNNNNN\n",
      "../data/HumanChr10.fasta.gz 1 sequences\n",
      "CM000672.2 Homo sapiens chromosome 10, GRCh38 reference primary assembly\n",
      "133797422 bases +NNNNNNNNNNNNNNNNNNNNNNNNNNNNN ... NNNNNNNNNNNNNNNNNNNNNNNNNNNNNN\n",
      "../data/HumanChr11.fasta.gz 1 sequences\n",
      "CM000673.2 Homo sapiens chromosome 11, GRCh38 reference primary assembly\n",
      "135086622 bases +NNNNNNNNNNNNNNNNNNNNNNNNNNNNN ... NNNNNNNNNNNNNNNNNNNNNNNNNNNNNN\n",
      "../data/HumanChr12.fasta.gz 1 sequences\n",
      "CM000674.2 Homo sapiens chromosome 12, GRCh38 reference primary assembly\n",
      "133275309 bases +NNNNNNNNNNNNNNNNNNNNNNNNNNNNN ... NNNNNNNNNNNNNNNNNNNNNNNNNNNNNN\n",
      "../data/HumanChr13.fasta.gz 1 sequences\n",
      "CM000675.2 Homo sapiens chromosome 13, GRCh38 reference primary assembly\n",
      "114364328 bases +NNNNNNNNNNNNNNNNNNNNNNNNNNNNN ... NNNNNNNNNNNNNNNNNNNNNNNNNNNNNN\n",
      "../data/HumanChr14.fasta.gz 1 sequences\n",
      "CM000676.2 Homo sapiens chromosome 14, GRCh38 reference primary assembly\n",
      "107043718 bases +NNNNNNNNNNNNNNNNNNNNNNNNNNNNN ... NNNNNNNNNNNNNNNNNNNNNNNNNNNNNN\n",
      "../data/HumanChr15.fasta.gz 1 sequences\n",
      "CM000677.2 Homo sapiens chromosome 15, GRCh38 reference primary assembly\n",
      "101991189 bases +NNNNNNNNNNNNNNNNNNNNNNNNNNNNN ... NNNNNNNNNNNNNNNNNNNNNNNNNNNNNN\n",
      "../data/HumanChr16.fasta.gz 1 sequences\n",
      "CM000678.2 Homo sapiens chromosome 16, GRCh38 reference primary assembly\n",
      "90338345 bases +NNNNNNNNNNNNNNNNNNNNNNNNNNNNN ... NNNNNNNNNNNNNNNNNNNNNNNNNNNNNN\n",
      "../data/HumanChr17.fasta.gz 1 sequences\n",
      "CM000679.2 Homo sapiens chromosome 17, GRCh38 reference primary assembly\n",
      "83257441 bases +NNNNNNNNNNNNNNNNNNNNNNNNNNNNN ... NNNNNNNNNNNNNNNNNNNNNNNNNNNNNN\n",
      "../data/HumanChr18.fasta.gz 1 sequences\n",
      "CM000680.2 Homo sapiens chromosome 18, GRCh38 reference primary assembly\n",
      "80373285 bases +NNNNNNNNNNNNNNNNNNNNNNNNNNNNN ... NNNNNNNNNNNNNNNNNNNNNNNNNNNNNN\n",
      "../data/HumanChr19.fasta.gz 1 sequences\n",
      "CM000681.2 Homo sapiens chromosome 19, GRCh38 reference primary assembly\n",
      "58617616 bases +NNNNNNNNNNNNNNNNNNNNNNNNNNNNN ... NNNNNNNNNNNNNNNNNNNNNNNNNNNNNN\n",
      "../data/HumanChr20.fasta.gz 1 sequences\n",
      "CM000682.2 Homo sapiens chromosome 20, GRCh38 reference primary assembly\n",
      "64444167 bases +NNNNNNNNNNNNNNNNNNNNNNNNNNNNN ... NNNNNNNNNNNNNNNNNNNNNNNNNNNNNN\n",
      "../data/HumanChr21.fasta.gz 1 sequences\n",
      "CM000683.2 Homo sapiens chromosome 21, GRCh38 reference primary assembly\n",
      "46709983 bases +NNNNNNNNNNNNNNNNNNNNNNNNNNNNN ... NNNNNNNNNNNNNNNNNNNNNNNNNNNNNN\n",
      "../data/HumanChr22.fasta.gz 1 sequences\n",
      "CM000684.2 Homo sapiens chromosome 22, GRCh38 reference primary assembly\n",
      "50818468 bases +NNNNNNNNNNNNNNNNNNNNNNNNNNNNN ... NNNNNNNNNNNNNNNNNNNNNNNNNNNNNN\n",
      "../data/HumanChr23.fasta.gz 1 sequences\n",
      "CM000685.2 Homo sapiens chromosome X, GRCh38 reference primary assembly\n",
      "156040895 bases +NNNNNNNNNNNNNNNNNNNNNNNNNNNNN ... NNNNNNNNNNNNNNNNNNNNNNNNNNNNNN\n",
      "../data/HumanChr24.fasta.gz 1 sequences\n",
      "CM000686.2 Homo sapiens chromosome Y, GRCh38 reference primary assembly\n",
      "57227415 bases +NNNNNNNNNNNNNNNNNNNNNNNNNNNNN ... NNNNNNNNNNNNNNNNNNNNNNNNNNNNNN\n",
      "../data/HumanChr25.fasta.gz 1 sequences\n",
      "J01415.2 Homo sapiens mitochondrion, complete genome\n",
      "16569 bases +GATCACAGGTCTATCACCCTATTAACCAC ... CACGTTCCCCTTAAATAAGACATCACGATG\n"
     ]
    }
   ],
   "source": [
    "import glob\n",
    "\n",
    "for filename in sorted(glob.glob(\"../data/HumanChr*\")):\n",
    "    print(filename, len(header), \"sequences\")\n",
    "    header, seq = loadFasta(filename)\n",
    "    for i in range(len(header)):\n",
    "        print(header[i])\n",
    "        print(len(seq[i])-1, \"bases\", seq[i][:30], \"...\", seq[i][-30:])"
   ]
  },
  {
   "cell_type": "markdown",
   "metadata": {},
   "source": [
    "## Output each chromosome as a simple string to speed up future processing"
   ]
  },
  {
   "cell_type": "code",
   "execution_count": null,
   "metadata": {
    "collapsed": true,
    "jupyter": {
     "outputs_hidden": true
    }
   },
   "outputs": [],
   "source": [
    "header, seq = loadFasta(\"data/GCA_000001405.15_GRCh38_genomic.fna.gz\")\n",
    "print(len(header), \"sequences\")\n",
    "for i in range(len(header)):\n",
    "    if header[i].startswith(\"CM\") or header[i].startswith(\"J0\"):\n",
    "        start = header[i].find('chromosome ')\n",
    "        chromo = header[i][start+11:header[i].find(',')] if (start >= 0) else \"MT\"\n",
    "        with open(\"data/Chr%s.seq\" % chromo, 'w') as fp:\n",
    "            fp.write(seq[i])            "
   ]
  },
  {
   "cell_type": "markdown",
   "metadata": {},
   "source": [
    "## A function to construct the reverse-complement version of a DNA sequence"
   ]
  },
  {
   "cell_type": "code",
   "execution_count": 26,
   "metadata": {
    "collapsed": true,
    "jupyter": {
     "outputs_hidden": true
    }
   },
   "outputs": [],
   "source": [
    "def revComp(dnaSeq):\n",
    "    return ''.join([{'A':'T','C':'G','G':'C','T':'A'}[base] for base in reversed(dnaSeq)])"
   ]
  },
  {
   "cell_type": "code",
   "execution_count": 44,
   "metadata": {
    "collapsed": false,
    "jupyter": {
     "outputs_hidden": false
    }
   },
   "outputs": [
    {
     "name": "stdout",
     "output_type": "stream",
     "text": [
      "3010202\n"
     ]
    }
   ],
   "source": [
    "foo = {\"A\":\"0\", \"C\":\"1\", \"G\":\"2\", \"T\":\"3\"}\n",
    "baseList = []\n",
    "for base in reversed(\"GAGACAT\"):\n",
    "    baseList.append(foo[base])\n",
    "print(''.join(baseList))"
   ]
  },
  {
   "cell_type": "code",
   "execution_count": 45,
   "metadata": {
    "collapsed": false,
    "jupyter": {
     "outputs_hidden": false
    }
   },
   "outputs": [
    {
     "name": "stdout",
     "output_type": "stream",
     "text": [
      "ATGTCTC\n",
      "GAGACAT\n"
     ]
    }
   ],
   "source": [
    "print(revComp(\"GAGACAT\"))\n",
    "print(revComp(\"ATGTCTC\"))"
   ]
  },
  {
   "cell_type": "code",
   "execution_count": 28,
   "metadata": {
    "collapsed": false,
    "jupyter": {
     "outputs_hidden": false
    }
   },
   "outputs": [
    {
     "name": "stdout",
     "output_type": "stream",
     "text": [
      "GGTCGAAGGACTCCACCTCATCAACCTTTCTTTTACCTTATCTGTGGTTTGGTTTGGTTTGGTTCTGTTCTTTCCCTTCCCTCTTAAAAGGAATATCACG\n"
     ]
    }
   ],
   "source": [
    "test = \"cGTGATATTCCTTTTAAGAGGGAAGGgaaagaacagaaccaaaccaaaccaaaccacagataaggtaaaagaaaggttgatgaggtggagtccttcgacc\".upper()\n",
    "print revComp(test)"
   ]
  },
  {
   "cell_type": "markdown",
   "metadata": {},
   "source": [
    "## Find the frequency of all k-mers in the genome\n",
    "\n",
    "# Warning: This next cell takes a while..."
   ]
  },
  {
   "cell_type": "code",
   "execution_count": null,
   "metadata": {
    "collapsed": false,
    "jupyter": {
     "outputs_hidden": false
    }
   },
   "outputs": [],
   "source": [
    "import time\n",
    "\n",
    "DATA = \"../HumanGenome/\"  # change to match the directory where your chromosome sequences are.\n",
    "chromo = [str(i) for i in xrange(1,23)] + ['X', 'Y', 'MT']\n",
    "\n",
    "kmerCount = {}\n",
    "K = 11\n",
    "L = 0\n",
    "for contig in chromo:\n",
    "    tick = time.time()\n",
    "    with open(DATA+\"Chr%s.seq\" % contig, 'r') as fp:\n",
    "        seq = fp.read()\n",
    "    for i in xrange(1,len(seq)-K+1):\n",
    "        kmer = seq[i:i+K]\n",
    "        for base in \"RYSWKMBDHVN\":\n",
    "            if (base in kmer):\n",
    "                break\n",
    "        else:\n",
    "            kmerCount[kmer] = kmerCount.get(kmer,0) + 1\n",
    "            kmer = revComp(kmer)\n",
    "            kmerCount[kmer] = kmerCount.get(kmer,0) + 1\n",
    "    tock = time.time()\n",
    "    print(contig, len(seq)-1, len(kmerCount), \"%6.2f secs\" % (tock - tick))\n",
    "    tick = tock\n",
    "    L += len(seq) - 1\n",
    "    break\n",
    "print(L, len(kmerCount))"
   ]
  },
  {
   "cell_type": "code",
   "execution_count": null,
   "metadata": {
    "collapsed": false,
    "jupyter": {
     "outputs_hidden": false
    }
   },
   "outputs": [],
   "source": [
    "print(4**K - len(kmerCount))"
   ]
  },
  {
   "cell_type": "markdown",
   "metadata": {},
   "source": [
    "## The code belows prints out all of the missing k-mers, if you're interested"
   ]
  },
  {
   "cell_type": "code",
   "execution_count": 20,
   "metadata": {
    "collapsed": false,
    "jupyter": {
     "outputs_hidden": false
    }
   },
   "outputs": [
    {
     "name": "stdout",
     "output_type": "stream",
     "text": [
      "167156\n"
     ]
    }
   ],
   "source": [
    "missing = []\n",
    "for pattern in itertools.product(\"ACGT\", repeat=K):\n",
    "    kmer = ''.join(pattern)\n",
    "    if kmer not in kmerCount:\n",
    "        missing.append(kmer)\n",
    "print(len(missing))"
   ]
  },
  {
   "cell_type": "markdown",
   "metadata": {},
   "source": [
    "## Plot the kmer distribution"
   ]
  },
  {
   "cell_type": "code",
   "execution_count": null,
   "metadata": {
    "collapsed": true,
    "jupyter": {
     "outputs_hidden": true
    }
   },
   "outputs": [],
   "source": [
    "import matplotlib\n",
    "import matplotlib.pyplot as plot\n",
    "%matplotlib inline\n",
    "\n",
    "# Compute a histogram of kmer-counts (i.e. how many kmers appear 1 time, 2 times, 3 times ...)\n",
    "maxcount = 500\n",
    "hist = [0 for i in range(maxcount)]\n",
    "for kmer in kmerCount:\n",
    "    count = kmerCount[kmer]\n",
    "    if (count < maxcount):\n",
    "        hist[count] += 1\n",
    "\n",
    "fig = plot.figure(figsize=(10,6))\n",
    "plot.plot([i for i in range(maxcount)], hist)\n",
    "plot.show()"
   ]
  },
  {
   "cell_type": "code",
   "execution_count": 29,
   "metadata": {
    "collapsed": false,
    "jupyter": {
     "outputs_hidden": false
    }
   },
   "outputs": [
    {
     "name": "stdout",
     "output_type": "stream",
     "text": [
      "248956423\n"
     ]
    }
   ],
   "source": [
    "contig = '1'\n",
    "with open(DATA+\"Chr%s.seq\" % contig, 'r') as fp:\n",
    "    seq = fp.read()\n",
    "print(len(seq))"
   ]
  },
  {
   "cell_type": "code",
   "execution_count": 38,
   "metadata": {
    "collapsed": false,
    "jupyter": {
     "outputs_hidden": false
    }
   },
   "outputs": [
    {
     "name": "stdout",
     "output_type": "stream",
     "text": [
      "96166571\n"
     ]
    }
   ],
   "source": []
  },
  {
   "cell_type": "code",
   "execution_count": null,
   "metadata": {
    "collapsed": true,
    "jupyter": {
     "outputs_hidden": true
    }
   },
   "outputs": [],
   "source": []
  }
 ],
 "metadata": {
  "kernelspec": {
   "display_name": "Python 3 (ipykernel)",
   "language": "python",
   "name": "python3"
  },
  "language_info": {
   "codemirror_mode": {
    "name": "ipython",
    "version": 3
   },
   "file_extension": ".py",
   "mimetype": "text/x-python",
   "name": "python",
   "nbconvert_exporter": "python",
   "pygments_lexer": "ipython3",
   "version": "3.12.1"
  }
 },
 "nbformat": 4,
 "nbformat_minor": 4
}
